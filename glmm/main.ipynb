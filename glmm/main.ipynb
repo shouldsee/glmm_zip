{
 "cells": [
  {
   "cell_type": "markdown",
   "metadata": {},
   "source": [
    "# Model outline\n",
    "\n",
    "This code fit a GLMM with variational inference\n",
    "\n",
    "$$\n",
    "count \\sim Poission()\n",
    "$$"
   ]
  }
 ],
 "metadata": {
  "language_info": {
   "name": "python"
  },
  "orig_nbformat": 4
 },
 "nbformat": 4,
 "nbformat_minor": 2
}
